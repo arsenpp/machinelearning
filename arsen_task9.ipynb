{
 "cells": [
  {
   "cell_type": "code",
   "execution_count": 2,
   "metadata": {},
   "outputs": [
    {
     "name": "stdout",
     "output_type": "stream",
     "text": [
      "545\n",
      "4\n"
     ]
    }
   ],
   "source": [
    "def dec_to_reversed_bin(N):\n",
    "  result = ''\n",
    "\n",
    "  while N > 0:\n",
    "    result += str(N % 2)\n",
    "    N //= 2\n",
    "\n",
    "  return result\n",
    "\n",
    "def solution(N):\n",
    "  max_length = 0\n",
    "\n",
    "  binary = dec_to_reversed_bin(N)\n",
    "\n",
    "  started = False\n",
    "  ended = False\n",
    "  current_length = 0\n",
    "\n",
    "  for digit in binary:\n",
    "    if digit == '1':\n",
    "      if not started:\n",
    "        started = True\n",
    "      elif not ended:\n",
    "        ended = True\n",
    "\n",
    "      if started and ended:\n",
    "        max_length = max(max_length, current_length)\n",
    "      current_length = 0\n",
    "\n",
    "    elif digit == '0':\n",
    "      current_length += 1\n",
    "\n",
    "  return max_length\n",
    "\n",
    "n = int(input())\n",
    "print(solution(n))\n",
    "\n"
   ]
  }
 ],
 "metadata": {
  "kernelspec": {
   "display_name": "Python 3",
   "language": "python",
   "name": "python3"
  },
  "language_info": {
   "codemirror_mode": {
    "name": "ipython",
    "version": 3
   },
   "file_extension": ".py",
   "mimetype": "text/x-python",
   "name": "python",
   "nbconvert_exporter": "python",
   "pygments_lexer": "ipython3",
   "version": "3.8.5"
  }
 },
 "nbformat": 4,
 "nbformat_minor": 4
}
